{
 "cells": [
  {
   "cell_type": "code",
   "execution_count": 1,
   "id": "e8bd93e2",
   "metadata": {},
   "outputs": [],
   "source": [
    "import random"
   ]
  },
  {
   "cell_type": "code",
   "execution_count": 2,
   "id": "e5585c2a",
   "metadata": {},
   "outputs": [
    {
     "data": {
      "text/plain": [
       "-7"
      ]
     },
     "execution_count": 2,
     "metadata": {},
     "output_type": "execute_result"
    }
   ],
   "source": [
    "random.randint(-90, 90)"
   ]
  },
  {
   "cell_type": "code",
   "execution_count": 3,
   "id": "24058ae2",
   "metadata": {},
   "outputs": [
    {
     "data": {
      "text/plain": [
       "76.17277977158206"
      ]
     },
     "execution_count": 3,
     "metadata": {},
     "output_type": "execute_result"
    }
   ],
   "source": [
    "random_number = random.randint(-90, 89) + random.random()\n",
    "random_number"
   ]
  },
  {
   "cell_type": "code",
   "execution_count": 5,
   "id": "2c740831",
   "metadata": {},
   "outputs": [],
   "source": [
    "x = 1\n",
    "latitudes = []\n",
    "while x < 11:\n",
    "    random_lat = random.randint(-90, 89) + random.random()\n",
    "    latitudes.append(random_lat)\n",
    "    x += 1"
   ]
  },
  {
   "cell_type": "code",
   "execution_count": 6,
   "id": "155035e7",
   "metadata": {},
   "outputs": [
    {
     "data": {
      "text/plain": [
       "[-89.86288261123669,\n",
       " -30.164845399204975,\n",
       " -5.471817020004163,\n",
       " 13.355588279550393,\n",
       " 29.90533755696836,\n",
       " -68.20092492361981,\n",
       " -48.71497645051205,\n",
       " -45.54177000971998,\n",
       " -32.41210496164719,\n",
       " 67.52448006695951]"
      ]
     },
     "execution_count": 6,
     "metadata": {},
     "output_type": "execute_result"
    }
   ],
   "source": [
    "latitudes"
   ]
  },
  {
   "cell_type": "code",
   "execution_count": 7,
   "id": "b9d77958",
   "metadata": {},
   "outputs": [
    {
     "data": {
      "text/plain": [
       "63"
      ]
     },
     "execution_count": 7,
     "metadata": {},
     "output_type": "execute_result"
    }
   ],
   "source": [
    "random.randrange(-90, 90, 1)"
   ]
  },
  {
   "cell_type": "code",
   "execution_count": 8,
   "id": "abef5473",
   "metadata": {},
   "outputs": [
    {
     "data": {
      "text/plain": [
       "0"
      ]
     },
     "execution_count": 8,
     "metadata": {},
     "output_type": "execute_result"
    }
   ],
   "source": [
    "random.randrange(-90, 90, 3)"
   ]
  },
  {
   "cell_type": "code",
   "execution_count": 9,
   "id": "527c9dca",
   "metadata": {},
   "outputs": [
    {
     "data": {
      "text/plain": [
       "30.838929487654198"
      ]
     },
     "execution_count": 9,
     "metadata": {},
     "output_type": "execute_result"
    }
   ],
   "source": [
    "random.uniform(-90, 90)"
   ]
  },
  {
   "cell_type": "code",
   "execution_count": 10,
   "id": "c5543909",
   "metadata": {},
   "outputs": [],
   "source": [
    "import numpy as np"
   ]
  },
  {
   "cell_type": "code",
   "execution_count": 11,
   "id": "df997e94",
   "metadata": {},
   "outputs": [
    {
     "data": {
      "text/plain": [
       "-52.7676085865926"
      ]
     },
     "execution_count": 11,
     "metadata": {},
     "output_type": "execute_result"
    }
   ],
   "source": [
    "np.random.uniform(-90.000, 90.000)"
   ]
  },
  {
   "cell_type": "code",
   "execution_count": 13,
   "id": "462fe6df",
   "metadata": {},
   "outputs": [
    {
     "data": {
      "text/plain": [
       "array([-58.33508424, -75.45732141,  78.01255858, -63.59371182,\n",
       "       -34.18296979,  79.02894492, -73.15160244, -86.46687309,\n",
       "         6.20883769, -71.91804035,   1.53651896,  59.90299725,\n",
       "        37.65842988,  72.02923305,  63.10300112, -13.92317823,\n",
       "        -9.78986876,  72.70239107,  71.77743313,  83.98847527,\n",
       "        60.27203753,  49.79737821,   5.26909488,   6.924322  ,\n",
       "       -30.04003832,  15.96469542,   2.60400374,  44.55750112,\n",
       "       -66.52289677, -51.43620025,  76.9262061 ,  39.1622872 ,\n",
       "        -6.89951519,  82.11281282,  76.74074515,  44.84416111,\n",
       "       -47.36849729,  30.86579866, -60.86202352,  15.65987238,\n",
       "       -36.84746879,  64.55472221,   7.68219338, -52.75532351,\n",
       "        -4.82933432,  80.29682985, -32.94409246, -29.42757704,\n",
       "       -10.95990132, -37.86171528])"
      ]
     },
     "execution_count": 13,
     "metadata": {},
     "output_type": "execute_result"
    }
   ],
   "source": [
    "np.random.uniform(-90, 90, size = 50)"
   ]
  },
  {
   "cell_type": "code",
   "execution_count": 14,
   "id": "7d784e13",
   "metadata": {},
   "outputs": [],
   "source": [
    "import timeit"
   ]
  },
  {
   "cell_type": "code",
   "execution_count": 15,
   "id": "d541806f",
   "metadata": {},
   "outputs": [
    {
     "name": "stdout",
     "output_type": "stream",
     "text": [
      "20.2 µs ± 2.47 µs per loop (mean ± std. dev. of 7 runs, 10000 loops each)\n"
     ]
    }
   ],
   "source": [
    "%timeit np.random.uniform(-90.000, 90.000, size=1500)"
   ]
  },
  {
   "cell_type": "code",
   "execution_count": 16,
   "id": "aa8abd09",
   "metadata": {},
   "outputs": [
    {
     "name": "stdout",
     "output_type": "stream",
     "text": [
      "3.29 ms ± 832 µs per loop (mean ± std. dev. of 7 runs, 100 loops each)\n"
     ]
    }
   ],
   "source": [
    "def latitudes(size):\n",
    "    latitudes = []\n",
    "    x = 0\n",
    "    while x < (size):\n",
    "        random_lat = random.randint(-90, 90) + random.random()\n",
    "        latitudes.append(random_lat)\n",
    "        x += 1\n",
    "    return latitudes\n",
    "# Call the function with 1500.\n",
    "%timeit latitudes(1500)"
   ]
  },
  {
   "cell_type": "code",
   "execution_count": null,
   "id": "0bd05d48",
   "metadata": {},
   "outputs": [],
   "source": []
  }
 ],
 "metadata": {
  "kernelspec": {
   "display_name": "PythonData",
   "language": "python",
   "name": "pythondata"
  },
  "language_info": {
   "codemirror_mode": {
    "name": "ipython",
    "version": 3
   },
   "file_extension": ".py",
   "mimetype": "text/x-python",
   "name": "python",
   "nbconvert_exporter": "python",
   "pygments_lexer": "ipython3",
   "version": "3.7.10"
  }
 },
 "nbformat": 4,
 "nbformat_minor": 5
}
